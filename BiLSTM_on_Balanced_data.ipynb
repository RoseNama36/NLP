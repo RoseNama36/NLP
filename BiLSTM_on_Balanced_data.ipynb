{
  "nbformat": 4,
  "nbformat_minor": 0,
  "metadata": {
    "colab": {
      "provenance": []
    },
    "kernelspec": {
      "name": "python3",
      "display_name": "Python 3"
    },
    "language_info": {
      "name": "python"
    }
  },
  "cells": [
    {
      "cell_type": "markdown",
      "source": [
        "*Bidirectional Long Short-Term Memory (BiLSTM)  on Balanced data*"
      ],
      "metadata": {
        "id": "smNAqZFWNdaR"
      }
    },
    {
      "cell_type": "markdown",
      "source": [
        "This notebook presents training the BiLSTM on a balanced dataset.To ensure uniformity, as this is a comparative analysis study,the same data preprocessing and preparation techniques are applied across all experiments."
      ],
      "metadata": {
        "id": "SaQsEq8jvrN_"
      }
    },
    {
      "cell_type": "code",
      "execution_count": null,
      "metadata": {
        "colab": {
          "base_uri": "https://localhost:8080/"
        },
        "id": "vGEFtNw1A_dQ",
        "outputId": "a3939e35-884b-4cc4-ee23-24f91b728d37"
      },
      "outputs": [
        {
          "output_type": "stream",
          "name": "stderr",
          "text": [
            "[nltk_data] Downloading package stopwords to /root/nltk_data...\n",
            "[nltk_data]   Unzipping corpora/stopwords.zip.\n",
            "[nltk_data] Downloading package wordnet to /root/nltk_data...\n"
          ]
        },
        {
          "output_type": "execute_result",
          "data": {
            "text/plain": [
              "True"
            ]
          },
          "metadata": {},
          "execution_count": 1
        }
      ],
      "source": [
        "#importing necesaary libraries\n",
        "import pandas as pd\n",
        "import re\n",
        "import nltk\n",
        "from nltk.corpus import stopwords\n",
        "from sklearn.model_selection import train_test_split\n",
        "from sklearn.utils import resample\n",
        "import numpy as np\n",
        "from tensorflow.keras.preprocessing.text import Tokenizer\n",
        "from tensorflow.keras.preprocessing.sequence import pad_sequences\n",
        "from tensorflow.keras.models import Sequential\n",
        "from tensorflow.keras.layers import Embedding, Bidirectional, LSTM, Dense, SpatialDropout1D, Dropout\n",
        "from tensorflow.keras.optimizers import Adam\n",
        "from tensorflow.keras.callbacks import EarlyStopping\n",
        "from sklearn.metrics import classification_report, confusion_matrix, accuracy_score, f1_score, precision_score, recall_score, ConfusionMatrixDisplay\n",
        "import matplotlib.pyplot as plt\n",
        "\n",
        "# Download necessary NLTK data\n",
        "nltk.download('stopwords')\n",
        "nltk.download('wordnet')"
      ]
    },
    {
      "cell_type": "code",
      "source": [
        "# Loading the dataset\n",
        "data = pd.read_csv('Service_tickets.csv')\n",
        "data.head()"
      ],
      "metadata": {
        "colab": {
          "base_uri": "https://localhost:8080/",
          "height": 206
        },
        "id": "-mPEp2HGBGGc",
        "outputId": "d51a2b05-ee8b-4fec-852c-9ef7ee35c399"
      },
      "execution_count": null,
      "outputs": [
        {
          "output_type": "execute_result",
          "data": {
            "text/plain": [
              "                                            Document    Topic_group\n",
              "0  connection with icon icon dear please setup ic...       Hardware\n",
              "1  work experience user work experience user hi w...         Access\n",
              "2  requesting for meeting requesting meeting hi p...       Hardware\n",
              "3  reset passwords for external accounts re expir...         Access\n",
              "4  mail verification warning hi has got attached ...  Miscellaneous"
            ],
            "text/html": [
              "\n",
              "  <div id=\"df-d1289049-2e93-4e8c-87c7-ff4f4d694e0c\" class=\"colab-df-container\">\n",
              "    <div>\n",
              "<style scoped>\n",
              "    .dataframe tbody tr th:only-of-type {\n",
              "        vertical-align: middle;\n",
              "    }\n",
              "\n",
              "    .dataframe tbody tr th {\n",
              "        vertical-align: top;\n",
              "    }\n",
              "\n",
              "    .dataframe thead th {\n",
              "        text-align: right;\n",
              "    }\n",
              "</style>\n",
              "<table border=\"1\" class=\"dataframe\">\n",
              "  <thead>\n",
              "    <tr style=\"text-align: right;\">\n",
              "      <th></th>\n",
              "      <th>Document</th>\n",
              "      <th>Topic_group</th>\n",
              "    </tr>\n",
              "  </thead>\n",
              "  <tbody>\n",
              "    <tr>\n",
              "      <th>0</th>\n",
              "      <td>connection with icon icon dear please setup ic...</td>\n",
              "      <td>Hardware</td>\n",
              "    </tr>\n",
              "    <tr>\n",
              "      <th>1</th>\n",
              "      <td>work experience user work experience user hi w...</td>\n",
              "      <td>Access</td>\n",
              "    </tr>\n",
              "    <tr>\n",
              "      <th>2</th>\n",
              "      <td>requesting for meeting requesting meeting hi p...</td>\n",
              "      <td>Hardware</td>\n",
              "    </tr>\n",
              "    <tr>\n",
              "      <th>3</th>\n",
              "      <td>reset passwords for external accounts re expir...</td>\n",
              "      <td>Access</td>\n",
              "    </tr>\n",
              "    <tr>\n",
              "      <th>4</th>\n",
              "      <td>mail verification warning hi has got attached ...</td>\n",
              "      <td>Miscellaneous</td>\n",
              "    </tr>\n",
              "  </tbody>\n",
              "</table>\n",
              "</div>\n",
              "    <div class=\"colab-df-buttons\">\n",
              "\n",
              "  <div class=\"colab-df-container\">\n",
              "    <button class=\"colab-df-convert\" onclick=\"convertToInteractive('df-d1289049-2e93-4e8c-87c7-ff4f4d694e0c')\"\n",
              "            title=\"Convert this dataframe to an interactive table.\"\n",
              "            style=\"display:none;\">\n",
              "\n",
              "  <svg xmlns=\"http://www.w3.org/2000/svg\" height=\"24px\" viewBox=\"0 -960 960 960\">\n",
              "    <path d=\"M120-120v-720h720v720H120Zm60-500h600v-160H180v160Zm220 220h160v-160H400v160Zm0 220h160v-160H400v160ZM180-400h160v-160H180v160Zm440 0h160v-160H620v160ZM180-180h160v-160H180v160Zm440 0h160v-160H620v160Z\"/>\n",
              "  </svg>\n",
              "    </button>\n",
              "\n",
              "  <style>\n",
              "    .colab-df-container {\n",
              "      display:flex;\n",
              "      gap: 12px;\n",
              "    }\n",
              "\n",
              "    .colab-df-convert {\n",
              "      background-color: #E8F0FE;\n",
              "      border: none;\n",
              "      border-radius: 50%;\n",
              "      cursor: pointer;\n",
              "      display: none;\n",
              "      fill: #1967D2;\n",
              "      height: 32px;\n",
              "      padding: 0 0 0 0;\n",
              "      width: 32px;\n",
              "    }\n",
              "\n",
              "    .colab-df-convert:hover {\n",
              "      background-color: #E2EBFA;\n",
              "      box-shadow: 0px 1px 2px rgba(60, 64, 67, 0.3), 0px 1px 3px 1px rgba(60, 64, 67, 0.15);\n",
              "      fill: #174EA6;\n",
              "    }\n",
              "\n",
              "    .colab-df-buttons div {\n",
              "      margin-bottom: 4px;\n",
              "    }\n",
              "\n",
              "    [theme=dark] .colab-df-convert {\n",
              "      background-color: #3B4455;\n",
              "      fill: #D2E3FC;\n",
              "    }\n",
              "\n",
              "    [theme=dark] .colab-df-convert:hover {\n",
              "      background-color: #434B5C;\n",
              "      box-shadow: 0px 1px 3px 1px rgba(0, 0, 0, 0.15);\n",
              "      filter: drop-shadow(0px 1px 2px rgba(0, 0, 0, 0.3));\n",
              "      fill: #FFFFFF;\n",
              "    }\n",
              "  </style>\n",
              "\n",
              "    <script>\n",
              "      const buttonEl =\n",
              "        document.querySelector('#df-d1289049-2e93-4e8c-87c7-ff4f4d694e0c button.colab-df-convert');\n",
              "      buttonEl.style.display =\n",
              "        google.colab.kernel.accessAllowed ? 'block' : 'none';\n",
              "\n",
              "      async function convertToInteractive(key) {\n",
              "        const element = document.querySelector('#df-d1289049-2e93-4e8c-87c7-ff4f4d694e0c');\n",
              "        const dataTable =\n",
              "          await google.colab.kernel.invokeFunction('convertToInteractive',\n",
              "                                                    [key], {});\n",
              "        if (!dataTable) return;\n",
              "\n",
              "        const docLinkHtml = 'Like what you see? Visit the ' +\n",
              "          '<a target=\"_blank\" href=https://colab.research.google.com/notebooks/data_table.ipynb>data table notebook</a>'\n",
              "          + ' to learn more about interactive tables.';\n",
              "        element.innerHTML = '';\n",
              "        dataTable['output_type'] = 'display_data';\n",
              "        await google.colab.output.renderOutput(dataTable, element);\n",
              "        const docLink = document.createElement('div');\n",
              "        docLink.innerHTML = docLinkHtml;\n",
              "        element.appendChild(docLink);\n",
              "      }\n",
              "    </script>\n",
              "  </div>\n",
              "\n",
              "\n",
              "<div id=\"df-7ed51d73-a7d6-4ee2-941d-9703d324ec1d\">\n",
              "  <button class=\"colab-df-quickchart\" onclick=\"quickchart('df-7ed51d73-a7d6-4ee2-941d-9703d324ec1d')\"\n",
              "            title=\"Suggest charts\"\n",
              "            style=\"display:none;\">\n",
              "\n",
              "<svg xmlns=\"http://www.w3.org/2000/svg\" height=\"24px\"viewBox=\"0 0 24 24\"\n",
              "     width=\"24px\">\n",
              "    <g>\n",
              "        <path d=\"M19 3H5c-1.1 0-2 .9-2 2v14c0 1.1.9 2 2 2h14c1.1 0 2-.9 2-2V5c0-1.1-.9-2-2-2zM9 17H7v-7h2v7zm4 0h-2V7h2v10zm4 0h-2v-4h2v4z\"/>\n",
              "    </g>\n",
              "</svg>\n",
              "  </button>\n",
              "\n",
              "<style>\n",
              "  .colab-df-quickchart {\n",
              "      --bg-color: #E8F0FE;\n",
              "      --fill-color: #1967D2;\n",
              "      --hover-bg-color: #E2EBFA;\n",
              "      --hover-fill-color: #174EA6;\n",
              "      --disabled-fill-color: #AAA;\n",
              "      --disabled-bg-color: #DDD;\n",
              "  }\n",
              "\n",
              "  [theme=dark] .colab-df-quickchart {\n",
              "      --bg-color: #3B4455;\n",
              "      --fill-color: #D2E3FC;\n",
              "      --hover-bg-color: #434B5C;\n",
              "      --hover-fill-color: #FFFFFF;\n",
              "      --disabled-bg-color: #3B4455;\n",
              "      --disabled-fill-color: #666;\n",
              "  }\n",
              "\n",
              "  .colab-df-quickchart {\n",
              "    background-color: var(--bg-color);\n",
              "    border: none;\n",
              "    border-radius: 50%;\n",
              "    cursor: pointer;\n",
              "    display: none;\n",
              "    fill: var(--fill-color);\n",
              "    height: 32px;\n",
              "    padding: 0;\n",
              "    width: 32px;\n",
              "  }\n",
              "\n",
              "  .colab-df-quickchart:hover {\n",
              "    background-color: var(--hover-bg-color);\n",
              "    box-shadow: 0 1px 2px rgba(60, 64, 67, 0.3), 0 1px 3px 1px rgba(60, 64, 67, 0.15);\n",
              "    fill: var(--button-hover-fill-color);\n",
              "  }\n",
              "\n",
              "  .colab-df-quickchart-complete:disabled,\n",
              "  .colab-df-quickchart-complete:disabled:hover {\n",
              "    background-color: var(--disabled-bg-color);\n",
              "    fill: var(--disabled-fill-color);\n",
              "    box-shadow: none;\n",
              "  }\n",
              "\n",
              "  .colab-df-spinner {\n",
              "    border: 2px solid var(--fill-color);\n",
              "    border-color: transparent;\n",
              "    border-bottom-color: var(--fill-color);\n",
              "    animation:\n",
              "      spin 1s steps(1) infinite;\n",
              "  }\n",
              "\n",
              "  @keyframes spin {\n",
              "    0% {\n",
              "      border-color: transparent;\n",
              "      border-bottom-color: var(--fill-color);\n",
              "      border-left-color: var(--fill-color);\n",
              "    }\n",
              "    20% {\n",
              "      border-color: transparent;\n",
              "      border-left-color: var(--fill-color);\n",
              "      border-top-color: var(--fill-color);\n",
              "    }\n",
              "    30% {\n",
              "      border-color: transparent;\n",
              "      border-left-color: var(--fill-color);\n",
              "      border-top-color: var(--fill-color);\n",
              "      border-right-color: var(--fill-color);\n",
              "    }\n",
              "    40% {\n",
              "      border-color: transparent;\n",
              "      border-right-color: var(--fill-color);\n",
              "      border-top-color: var(--fill-color);\n",
              "    }\n",
              "    60% {\n",
              "      border-color: transparent;\n",
              "      border-right-color: var(--fill-color);\n",
              "    }\n",
              "    80% {\n",
              "      border-color: transparent;\n",
              "      border-right-color: var(--fill-color);\n",
              "      border-bottom-color: var(--fill-color);\n",
              "    }\n",
              "    90% {\n",
              "      border-color: transparent;\n",
              "      border-bottom-color: var(--fill-color);\n",
              "    }\n",
              "  }\n",
              "</style>\n",
              "\n",
              "  <script>\n",
              "    async function quickchart(key) {\n",
              "      const quickchartButtonEl =\n",
              "        document.querySelector('#' + key + ' button');\n",
              "      quickchartButtonEl.disabled = true;  // To prevent multiple clicks.\n",
              "      quickchartButtonEl.classList.add('colab-df-spinner');\n",
              "      try {\n",
              "        const charts = await google.colab.kernel.invokeFunction(\n",
              "            'suggestCharts', [key], {});\n",
              "      } catch (error) {\n",
              "        console.error('Error during call to suggestCharts:', error);\n",
              "      }\n",
              "      quickchartButtonEl.classList.remove('colab-df-spinner');\n",
              "      quickchartButtonEl.classList.add('colab-df-quickchart-complete');\n",
              "    }\n",
              "    (() => {\n",
              "      let quickchartButtonEl =\n",
              "        document.querySelector('#df-7ed51d73-a7d6-4ee2-941d-9703d324ec1d button');\n",
              "      quickchartButtonEl.style.display =\n",
              "        google.colab.kernel.accessAllowed ? 'block' : 'none';\n",
              "    })();\n",
              "  </script>\n",
              "</div>\n",
              "\n",
              "    </div>\n",
              "  </div>\n"
            ],
            "application/vnd.google.colaboratory.intrinsic+json": {
              "type": "dataframe",
              "variable_name": "data",
              "summary": "{\n  \"name\": \"data\",\n  \"rows\": 47837,\n  \"fields\": [\n    {\n      \"column\": \"Document\",\n      \"properties\": {\n        \"dtype\": \"string\",\n        \"num_unique_values\": 47837,\n        \"samples\": [\n          \"issue with server process sent tuesday issue with server process hi could you please help with following issue getting once few minutes discipline lead\",\n          \"new purchase po wednesday february purchase po dear purchased please log installation please take consideration mandatory receipts section order receive item ordered kind regards administrator information\",\n          \"oracle pas urgent re we updated rights query hi can get some assistance here looks like have full control for codes only one working for cannot forecast need done by friday thanks programme portfolio officer mobile phone\"\n        ],\n        \"semantic_type\": \"\",\n        \"description\": \"\"\n      }\n    },\n    {\n      \"column\": \"Topic_group\",\n      \"properties\": {\n        \"dtype\": \"category\",\n        \"num_unique_values\": 8,\n        \"samples\": [\n          \"Access\",\n          \"Administrative rights\",\n          \"Hardware\"\n        ],\n        \"semantic_type\": \"\",\n        \"description\": \"\"\n      }\n    }\n  ]\n}"
            }
          },
          "metadata": {},
          "execution_count": 2
        }
      ]
    },
    {
      "cell_type": "code",
      "source": [
        "data.shape\n",
        "# checking the count of the frequency of the Classes\n",
        "data['Topic_group'].value_counts()"
      ],
      "metadata": {
        "colab": {
          "base_uri": "https://localhost:8080/"
        },
        "id": "_IsSHk50BLno",
        "outputId": "3ce61c91-f498-4563-8875-b835f328ce38"
      },
      "execution_count": null,
      "outputs": [
        {
          "output_type": "execute_result",
          "data": {
            "text/plain": [
              "Topic_group\n",
              "Hardware                 13617\n",
              "HR Support               10915\n",
              "Access                    7125\n",
              "Miscellaneous             7060\n",
              "Storage                   2777\n",
              "Purchase                  2464\n",
              "Internal Project          2119\n",
              "Administrative rights     1760\n",
              "Name: count, dtype: int64"
            ]
          },
          "metadata": {},
          "execution_count": 3
        }
      ]
    },
    {
      "cell_type": "markdown",
      "source": [
        "**Data cleaning**\n",
        "\n",
        "This step involves removing  non-alphabetic characters, Converting text to lowercase and removing stop words.\n",
        "\n",
        "First  target variable , topic groups is encoded  into numeric format for prepration for the models."
      ],
      "metadata": {
        "id": "rj8m9wDbylXt"
      }
    },
    {
      "cell_type": "code",
      "source": [
        "# Clean the text data\n",
        "def clean_text(text):\n",
        "    stop_words = set(stopwords.words('english'))\n",
        "    text = text.lower()\n",
        "    text = re.sub('[^a-zA-Z\\s]', '', text)\n",
        "    text = ' '.join(word for word in text.split() if word not in stop_words)\n",
        "    return text\n",
        "\n",
        "data['Cleaned_Document'] = data['Document'].apply(clean_text)\n",
        "\n",
        "# # Redefining dataframe to maintain only the columns needed for the susequent tasks\n",
        "data = data[['Cleaned_Document', 'Topic_group']]\n",
        "\n",
        "# Encoding category labels using category codes\n",
        "data[\"encoded_label\"] = data[\"Topic_group\"].astype('category').cat.codes"
      ],
      "metadata": {
        "id": "glVl9m3QBQ2m"
      },
      "execution_count": null,
      "outputs": []
    },
    {
      "cell_type": "markdown",
      "source": [
        "**Balancing the Dataset with Undersampling and Oversampling .**\n",
        "\n",
        "\n",
        "\n",
        "A target size 5,000 is set basing on the median, and undersampling is done for classes that exceed 5,000 by randomly selecting and removing the samples until the target is reached For classes with less than 5,000, oversampling is done by randomly duplicating samples until there are 5,000 thus achieving a balanced dataset."
      ],
      "metadata": {
        "id": "0hd4gzs0y55B"
      }
    },
    {
      "cell_type": "code",
      "source": [
        "# Undersample and oversample to target 5000 instances per class\n",
        "target_size = 5000\n",
        "balanced_data = pd.DataFrame(columns=data.columns)\n",
        "\n",
        "for topic_group in data['Topic_group'].unique():\n",
        "    topic_group_data = data[data['Topic_group'] == topic_group]\n",
        "    if len(topic_group_data) > target_size:\n",
        "        # Undersample\n",
        "        undersampled_data = resample(topic_group_data, replace=False, n_samples=target_size, random_state=42)\n",
        "        balanced_data = pd.concat([balanced_data, undersampled_data])\n",
        "    else:\n",
        "        # Oversample\n",
        "        oversampled_data = resample(topic_group_data, replace=True, n_samples=target_size, random_state=42)\n",
        "        balanced_data = pd.concat([balanced_data, oversampled_data])\n",
        "\n",
        "balanced_data.reset_index(drop=True, inplace=True)\n",
        "\n",
        "# Print class distribution after balancing\n",
        "print(\"Class distribution after balancing:\")\n",
        "print(balanced_data['Topic_group'].value_counts())\n"
      ],
      "metadata": {
        "colab": {
          "base_uri": "https://localhost:8080/"
        },
        "id": "g8qU5h_CBVMV",
        "outputId": "3eb343ee-987f-45ba-c610-9aa64ba628db"
      },
      "execution_count": null,
      "outputs": [
        {
          "output_type": "stream",
          "name": "stdout",
          "text": [
            "Class distribution after balancing:\n",
            "Topic_group\n",
            "Hardware                 5000\n",
            "Access                   5000\n",
            "Miscellaneous            5000\n",
            "HR Support               5000\n",
            "Purchase                 5000\n",
            "Administrative rights    5000\n",
            "Storage                  5000\n",
            "Internal Project         5000\n",
            "Name: count, dtype: int64\n"
          ]
        }
      ]
    },
    {
      "cell_type": "markdown",
      "source": [
        "\n",
        "**Data Preparation:Data Spliting, Vocabulary Analysis, Tokenization, and Padding**\n",
        "\n",
        " The Balanced Data is split into Training and Test Sets using stratified spliting to ensure the class distribution in the training and test sets represents the overall class distribution in the balanced dataset.\n",
        "\n",
        "\n",
        " Word frequencies and text lengths for the documents\n",
        "are calculated and to determine the vocabulary size,words with frequency greater than 10 are filtered.The max_words parameter is set to the vocabulary size  to ensure that the model only focuses on the most relevant and frequent words in the dataset, optimizing memory usage, computational efficiency, and model performance.\n",
        "\n",
        "\n",
        "A Tokenizer is created with the Max_words parameter, which limits the vocabulary size based on the most frequent words and applied on train data\n",
        "The training and test texts are converted into sequences of integers, where each integer represents a word's index in the tokenizer's vocabulary.\n",
        "\n",
        "The tokenized sequences are padded to ensure that all sequences have the same length of 1000 based on dataset's max length and average length.\n",
        "\n",
        "Aslso the encoded train and test labels are convert to NumPy Arrays  to ensure that these labels were in the right format for efficient model training and evaluation aand for efficient batch processing,"
      ],
      "metadata": {
        "id": "DE1NEvQJwHPz"
      }
    },
    {
      "cell_type": "code",
      "source": [
        "# Split the balanced data into training (80%) and test (20%) sets\n",
        "train_data, test_data = train_test_split(balanced_data, test_size=0.2, stratify=balanced_data['Topic_group'], random_state=42)\n",
        "\n",
        "# Calculating word frequencies and text lengths\n",
        "from collections import Counter\n",
        "\n",
        "word_freq = Counter()\n",
        "text_lengths = []\n",
        "for text in balanced_data['Cleaned_Document']:\n",
        "    words = text.split()\n",
        "    word_freq.update(words)\n",
        "    text_lengths.append(len(words))\n",
        "\n",
        "# Filtering out words with frequency > 10\n",
        "filtered_word_freq = {word: freq for word, freq in word_freq.items() if freq > 10}\n",
        "\n",
        "# Determining vocabulary size\n",
        "vocabulary_size = len(filtered_word_freq)\n",
        "\n",
        "# Setting Max_words\n",
        "Max_words = vocabulary_size\n",
        "\n",
        "# Printing vocabulary size and text length statistics\n",
        "print(\"Vocabulary size:\", vocabulary_size)\n",
        "print(\"Average text length:\", sum(text_lengths) / len(text_lengths))\n",
        "print(\"Max text length:\", max(text_lengths))\n",
        "print(\"Min text length:\", min(text_lengths))\n",
        "\n",
        "# Tokenization and Padding\n",
        "max_len = 1000  # Based on dataset's max length and average length\n",
        "tokenizer = Tokenizer(num_words=Max_words)\n",
        "tokenizer.fit_on_texts(train_data['Cleaned_Document'].tolist())\n",
        "train_sequences = tokenizer.texts_to_sequences(train_data['Cleaned_Document'].tolist())\n",
        "train_padded = pad_sequences(train_sequences, maxlen=max_len)\n",
        "test_sequences = tokenizer.texts_to_sequences(test_data['Cleaned_Document'].tolist())\n",
        "test_padded = pad_sequences(test_sequences, maxlen=max_len)\n",
        "train_labels = train_data['encoded_label'].values.astype('int64')\n",
        "test_labels = test_data['encoded_label'].values.astype('int64')"
      ],
      "metadata": {
        "colab": {
          "base_uri": "https://localhost:8080/"
        },
        "id": "SDOsss6DBZch",
        "outputId": "dda535e5-5c5e-4a84-f5e4-fca71930ef59"
      },
      "execution_count": null,
      "outputs": [
        {
          "output_type": "stream",
          "name": "stdout",
          "text": [
            "Vocabulary size: 4419\n",
            "Average text length: 36.178275\n",
            "Max text length: 860\n",
            "Min text length: 1\n"
          ]
        }
      ]
    },
    {
      "cell_type": "markdown",
      "source": [
        "**Building, Compiling, and Training a BiLSTM Model**\n",
        "\n",
        "The model is build with the following layers:\n",
        "Embedding Layer: The first layer is an Embedding layer that converts the input tokens into dense vectors of fixed size (output_dim=128). The input_dim=Max_words specifies the size of the vocabulary, and input_length=max_len defines the length of the input sequences.\n",
        "\n",
        "SpatialDropout1D Layer: A dropout layer is added to prevent overfitting by randomly dropping some of the input units.\n",
        "\n",
        "Bidirectional LSTM (BiLSTM) model is used to processes the input sequences in both forward and backward directions to capture context from both ends of the sequence.  Both dropout and recurrent dropout are set to 0.2 to further prevent overfitting.\n",
        "\n",
        "Dense Output Layer: The final layer is a Dense layer with a softmax activation function. The number of units is equal to the number of classes which determines the output class probabilities.\n",
        "\n",
        "It is compiled with a loss function sparse_categorical_crossentropy suitable for multi-class classification and adam optimzer with learning rate  to optimize the mode.It is trained with early stopping to prevent overfitting ith a patience of 3 epochs where it stops if performance does not improve .A validation spilt of 20% is set  for monitoring during training"
      ],
      "metadata": {
        "id": "8uceQADL3dwk"
      }
    },
    {
      "cell_type": "code",
      "source": [
        "# Building the BiLSTM model\n",
        "model = Sequential()\n",
        "model.add(Embedding(input_dim=Max_words, output_dim=128, input_length=max_len))\n",
        "model.add(SpatialDropout1D(0.2))\n",
        "model.add(Bidirectional(LSTM(100, dropout=0.2, recurrent_dropout=0.2)))\n",
        "model.add(Dense(len(data['Topic_group'].unique()), activation='softmax'))\n",
        "\n",
        "# Compiling the model\n",
        "model.compile(loss='sparse_categorical_crossentropy', optimizer=Adam(learning_rate=1e-3), metrics=['accuracy'])\n",
        "\n",
        "# Printing the model summary\n",
        "model.summary()\n",
        "\n",
        "# Defining early stopping\n",
        "early_stopping = EarlyStopping(monitor='val_loss', patience=3, restore_best_weights=True)\n",
        "\n",
        "# Training the model\n",
        "history = model.fit(train_padded, train_labels, epochs=20, batch_size=64, validation_split=0.2, callbacks=[early_stopping])\n",
        "\n"
      ],
      "metadata": {
        "colab": {
          "base_uri": "https://localhost:8080/"
        },
        "id": "nBN-lv__BjAR",
        "outputId": "2c4a4f71-c531-4ef2-ad97-46f7f5374704"
      },
      "execution_count": null,
      "outputs": [
        {
          "output_type": "stream",
          "name": "stdout",
          "text": [
            "Model: \"sequential\"\n",
            "_________________________________________________________________\n",
            " Layer (type)                Output Shape              Param #   \n",
            "=================================================================\n",
            " embedding (Embedding)       (None, 1000, 128)         565632    \n",
            "                                                                 \n",
            " spatial_dropout1d (Spatial  (None, 1000, 128)         0         \n",
            " Dropout1D)                                                      \n",
            "                                                                 \n",
            " bidirectional (Bidirection  (None, 200)               183200    \n",
            " al)                                                             \n",
            "                                                                 \n",
            " dense (Dense)               (None, 8)                 1608      \n",
            "                                                                 \n",
            "=================================================================\n",
            "Total params: 750440 (2.86 MB)\n",
            "Trainable params: 750440 (2.86 MB)\n",
            "Non-trainable params: 0 (0.00 Byte)\n",
            "_________________________________________________________________\n",
            "Epoch 1/20\n",
            "400/400 [==============================] - 2227s 6s/step - loss: 1.0674 - accuracy: 0.6243 - val_loss: 0.6398 - val_accuracy: 0.7961\n",
            "Epoch 2/20\n",
            "400/400 [==============================] - 2212s 6s/step - loss: 0.4565 - accuracy: 0.8598 - val_loss: 0.4215 - val_accuracy: 0.8686\n",
            "Epoch 3/20\n",
            "400/400 [==============================] - 2225s 6s/step - loss: 0.3232 - accuracy: 0.9027 - val_loss: 0.4138 - val_accuracy: 0.8702\n",
            "Epoch 4/20\n",
            "400/400 [==============================] - 2216s 6s/step - loss: 0.2681 - accuracy: 0.9205 - val_loss: 0.4183 - val_accuracy: 0.8691\n",
            "Epoch 5/20\n",
            "400/400 [==============================] - 2320s 6s/step - loss: 0.2251 - accuracy: 0.9321 - val_loss: 0.4032 - val_accuracy: 0.8845\n",
            "Epoch 6/20\n",
            "400/400 [==============================] - 2213s 6s/step - loss: 0.1889 - accuracy: 0.9420 - val_loss: 0.3875 - val_accuracy: 0.8820\n",
            "Epoch 7/20\n",
            "400/400 [==============================] - 2204s 6s/step - loss: 0.1802 - accuracy: 0.9452 - val_loss: 0.4081 - val_accuracy: 0.8834\n",
            "Epoch 8/20\n",
            "400/400 [==============================] - 2203s 6s/step - loss: 0.1595 - accuracy: 0.9529 - val_loss: 0.4363 - val_accuracy: 0.8727\n",
            "Epoch 9/20\n",
            "400/400 [==============================] - 2196s 5s/step - loss: 0.1649 - accuracy: 0.9502 - val_loss: 0.4326 - val_accuracy: 0.8823\n"
          ]
        }
      ]
    },
    {
      "cell_type": "markdown",
      "source": [
        "**Model Evaluation and Performance Metrics**\n",
        "\n",
        "Calculating key performance metrics: accuracy, F1 score, precision, and recall and printing a detailed classification report to provide insights into how well the model performs across different classes"
      ],
      "metadata": {
        "id": "rZWI3uYB31fv"
      }
    },
    {
      "cell_type": "code",
      "source": [
        "# Evaluating the model\n",
        "predictions = model.predict(test_padded)\n",
        "y_pred = np.argmax(predictions, axis=1)\n",
        "\n",
        "# Computing metrics\n",
        "acc = accuracy_score(test_labels, y_pred)\n",
        "f1 = f1_score(test_labels, y_pred, average='weighted')\n",
        "precision = precision_score(test_labels, y_pred, average='weighted')\n",
        "recall = recall_score(test_labels, y_pred, average='weighted')\n",
        "print(f\"Accuracy: {acc}\")\n",
        "print(f\"F1 Score: {f1}\")\n",
        "print(f\"Precision: {precision}\")\n",
        "print(f\"Recall: {recall}\")\n",
        "\n",
        "# Classification report\n",
        "print(\"\\nClassification Report:\\n\", classification_report(test_labels, y_pred))"
      ],
      "metadata": {
        "colab": {
          "base_uri": "https://localhost:8080/"
        },
        "id": "xYKRjOZ_BtOl",
        "outputId": "81c76f06-17c9-4b0b-a3f0-0bccb2494276"
      },
      "execution_count": null,
      "outputs": [
        {
          "output_type": "stream",
          "name": "stdout",
          "text": [
            "250/250 [==============================] - 152s 605ms/step\n",
            "Accuracy: 0.890125\n",
            "F1 Score: 0.8892265779678921\n",
            "Precision: 0.8890724641007853\n",
            "Recall: 0.890125\n",
            "\n",
            "Classification Report:\n",
            "               precision    recall  f1-score   support\n",
            "\n",
            "           0       0.87      0.91      0.89      1000\n",
            "           1       0.94      0.96      0.95      1000\n",
            "           2       0.83      0.83      0.83      1000\n",
            "           3       0.79      0.71      0.75      1000\n",
            "           4       0.94      0.96      0.95      1000\n",
            "           5       0.81      0.83      0.82      1000\n",
            "           6       0.97      0.97      0.97      1000\n",
            "           7       0.96      0.95      0.96      1000\n",
            "\n",
            "    accuracy                           0.89      8000\n",
            "   macro avg       0.89      0.89      0.89      8000\n",
            "weighted avg       0.89      0.89      0.89      8000\n",
            "\n"
          ]
        }
      ]
    },
    {
      "cell_type": "markdown",
      "source": [
        "**Confusion matrix**\n",
        "\n",
        "Generated to visualize and understand the performance of model in more detail and see number of correct and incorrect predictions for each class to idenfity misclassification and evaluate how well the  model handles each class."
      ],
      "metadata": {
        "id": "Os3z5UpU3hdh"
      }
    },
    {
      "cell_type": "code",
      "source": [
        "# Confusion matrix\n",
        "cm = confusion_matrix(test_labels, y_pred)\n",
        "disp = ConfusionMatrixDisplay(confusion_matrix=cm)\n",
        "disp.plot()"
      ],
      "metadata": {
        "colab": {
          "base_uri": "https://localhost:8080/",
          "height": 466
        },
        "id": "4fqPzoVIBueV",
        "outputId": "e6ef87c8-1ac4-433f-f0b9-5b8cf111180f"
      },
      "execution_count": null,
      "outputs": [
        {
          "output_type": "execute_result",
          "data": {
            "text/plain": [
              "<sklearn.metrics._plot.confusion_matrix.ConfusionMatrixDisplay at 0x7b5495f278e0>"
            ]
          },
          "metadata": {},
          "execution_count": 9
        },
        {
          "output_type": "display_data",
          "data": {
            "text/plain": [
              "<Figure size 640x480 with 2 Axes>"
            ],
            "image/png": "[encoded data removed]"
          },
          "metadata": {}
        }
      ]
    },
    {
      "cell_type": "markdown",
      "source": [
        "** Training and Validation Accuracy and Loss Visualization**\n",
        "\n",
        "Ploted the model's training and validation accuracy and loss over the training epochs. These plots helped to assess the model's performance, monitor overfitting, and understand how well the model is learning and generalizing as it trains\n"
      ],
      "metadata": {
        "id": "A13g9KMc4NtT"
      }
    },
    {
      "cell_type": "code",
      "source": [
        "# Plot training & validation accuracy values\n",
        "plt.figure(figsize=(14, 5))\n",
        "plt.subplot(1, 2, 1)\n",
        "plt.plot(history.history['accuracy'])\n",
        "plt.plot(history.history['val_accuracy'])\n",
        "plt.title('Model accuracy')\n",
        "plt.ylabel('Accuracy')\n",
        "plt.xlabel('Epoch')\n",
        "plt.legend(['Train', 'Validation'], loc='upper left')\n",
        "\n",
        "# Plot training & validation loss values\n",
        "plt.subplot(1, 2, 2)\n",
        "plt.plot(history.history['loss'])\n",
        "plt.plot(history.history['val_loss'])\n",
        "plt.title('Model loss')\n",
        "plt.ylabel('Loss')\n",
        "plt.xlabel('Epoch')\n",
        "plt.legend(['Train', 'Validation'], loc='upper left')\n",
        "plt.show()"
      ],
      "metadata": {
        "colab": {
          "base_uri": "https://localhost:8080/",
          "height": 362
        },
        "id": "jNZdUH_eByCT",
        "outputId": "35d120eb-08fb-4673-c1e0-251a31dbf44d"
      },
      "execution_count": null,
      "outputs": [
        {
          "output_type": "display_data",
          "data": {
            "text/plain": [
              "<Figure size 1400x500 with 2 Axes>"
            ],
            "image/png": "[encoded data removed]"
          },
          "metadata": {}
        }
      ]
    }
  ]
}