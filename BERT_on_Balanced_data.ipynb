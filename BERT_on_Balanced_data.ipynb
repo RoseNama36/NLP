{
  "nbformat": 4,
  "nbformat_minor": 0,
  "metadata": {
    "colab": {
      "provenance": [],
      "machine_shape": "hm",
      "gpuType": "A100"
    },
    "kernelspec": {
      "name": "python3",
      "display_name": "Python 3"
    },
    "language_info": {
      "name": "python"
    },
    "accelerator": "GPU"
  },
  "cells": [
    {
      "cell_type": "markdown",
      "source": [
        "*BERT model on Balanced data*"
      ],
      "metadata": {
        "id": "-WatCvc2OoKM"
      }
    },
    {
      "cell_type": "markdown",
      "source": [
        "This notebook presents training the pretrained BERT on a balanced dataset.To ensure uniformity, as this is a comparative analysis study,the same data preprocessing and preparation techniques are applied across all experiments."
      ],
      "metadata": {
        "id": "uFLVgio-653A"
      }
    },
    {
      "cell_type": "code",
      "execution_count": null,
      "metadata": {
        "id": "XH9oALzCR49Z",
        "colab": {
          "base_uri": "https://localhost:8080/"
        },
        "outputId": "501a8648-0d85-4cc0-a83c-9a91bd17d0d2"
      },
      "outputs": [
        {
          "output_type": "stream",
          "name": "stderr",
          "text": [
            "[nltk_data] Downloading package stopwords to /root/nltk_data...\n",
            "[nltk_data]   Package stopwords is already up-to-date!\n",
            "[nltk_data] Downloading package wordnet to /root/nltk_data...\n",
            "[nltk_data]   Package wordnet is already up-to-date!\n"
          ]
        },
        {
          "output_type": "execute_result",
          "data": {
            "text/plain": [
              "True"
            ]
          },
          "metadata": {},
          "execution_count": 1
        }
      ],
      "source": [
        "#importing necesaary libraries\n",
        "import pandas as pd\n",
        "import numpy as np\n",
        "import re\n",
        "import nltk\n",
        "from nltk.corpus import stopwords\n",
        "from sklearn.model_selection import train_test_split\n",
        "from sklearn.utils import resample\n",
        "import tensorflow as tf\n",
        "from transformers import BertTokenizer, TFBertForSequenceClassification, create_optimizer\n",
        "from sklearn.model_selection import train_test_split\n",
        "from sklearn.metrics import accuracy_score, f1_score, precision_score, recall_score, confusion_matrix, classification_report\n",
        "import matplotlib.pyplot as plt\n",
        "\n",
        "# Downloading necessary NLTK data\n",
        "nltk.download('stopwords')\n",
        "nltk.download('wordnet')\n",
        "\n",
        "\n"
      ]
    },
    {
      "cell_type": "code",
      "source": [
        "# Loading the dataset\n",
        "data = pd.read_csv('Service_tickets.csv')\n",
        "data.head()\n"
      ],
      "metadata": {
        "id": "ZHfSwvfQSPPL",
        "colab": {
          "base_uri": "https://localhost:8080/",
          "height": 206
        },
        "outputId": "1af61ed6-d024-4d59-bffd-66b02790f5cc"
      },
      "execution_count": null,
      "outputs": [
        {
          "output_type": "execute_result",
          "data": {
            "text/plain": [
              "                                            Document    Topic_group\n",
              "0  connection with icon icon dear please setup ic...       Hardware\n",
              "1  work experience user work experience user hi w...         Access\n",
              "2  requesting for meeting requesting meeting hi p...       Hardware\n",
              "3  reset passwords for external accounts re expir...         Access\n",
              "4  mail verification warning hi has got attached ...  Miscellaneous"
            ],
            "text/html": [
              "\n",
              "  <div id=\"df-e2e06218-043b-4093-80ec-afa5565746ad\" class=\"colab-df-container\">\n",
              "    <div>\n",
              "<style scoped>\n",
              "    .dataframe tbody tr th:only-of-type {\n",
              "        vertical-align: middle;\n",
              "    }\n",
              "\n",
              "    .dataframe tbody tr th {\n",
              "        vertical-align: top;\n",
              "    }\n",
              "\n",
              "    .dataframe thead th {\n",
              "        text-align: right;\n",
              "    }\n",
              "</style>\n",
              "<table border=\"1\" class=\"dataframe\">\n",
              "  <thead>\n",
              "    <tr style=\"text-align: right;\">\n",
              "      <th></th>\n",
              "      <th>Document</th>\n",
              "      <th>Topic_group</th>\n",
              "    </tr>\n",
              "  </thead>\n",
              "  <tbody>\n",
              "    <tr>\n",
              "      <th>0</th>\n",
              "      <td>connection with icon icon dear please setup ic...</td>\n",
              "      <td>Hardware</td>\n",
              "    </tr>\n",
              "    <tr>\n",
              "      <th>1</th>\n",
              "      <td>work experience user work experience user hi w...</td>\n",
              "      <td>Access</td>\n",
              "    </tr>\n",
              "    <tr>\n",
              "      <th>2</th>\n",
              "      <td>requesting for meeting requesting meeting hi p...</td>\n",
              "      <td>Hardware</td>\n",
              "    </tr>\n",
              "    <tr>\n",
              "      <th>3</th>\n",
              "      <td>reset passwords for external accounts re expir...</td>\n",
              "      <td>Access</td>\n",
              "    </tr>\n",
              "    <tr>\n",
              "      <th>4</th>\n",
              "      <td>mail verification warning hi has got attached ...</td>\n",
              "      <td>Miscellaneous</td>\n",
              "    </tr>\n",
              "  </tbody>\n",
              "</table>\n",
              "</div>\n",
              "    <div class=\"colab-df-buttons\">\n",
              "\n",
              "  <div class=\"colab-df-container\">\n",
              "    <button class=\"colab-df-convert\" onclick=\"convertToInteractive('df-e2e06218-043b-4093-80ec-afa5565746ad')\"\n",
              "            title=\"Convert this dataframe to an interactive table.\"\n",
              "            style=\"display:none;\">\n",
              "\n",
              "  <svg xmlns=\"http://www.w3.org/2000/svg\" height=\"24px\" viewBox=\"0 -960 960 960\">\n",
              "    <path d=\"M120-120v-720h720v720H120Zm60-500h600v-160H180v160Zm220 220h160v-160H400v160Zm0 220h160v-160H400v160ZM180-400h160v-160H180v160Zm440 0h160v-160H620v160ZM180-180h160v-160H180v160Zm440 0h160v-160H620v160Z\"/>\n",
              "  </svg>\n",
              "    </button>\n",
              "\n",
              "  <style>\n",
              "    .colab-df-container {\n",
              "      display:flex;\n",
              "      gap: 12px;\n",
              "    }\n",
              "\n",
              "    .colab-df-convert {\n",
              "      background-color: #E8F0FE;\n",
              "      border: none;\n",
              "      border-radius: 50%;\n",
              "      cursor: pointer;\n",
              "      display: none;\n",
              "      fill: #1967D2;\n",
              "      height: 32px;\n",
              "      padding: 0 0 0 0;\n",
              "      width: 32px;\n",
              "    }\n",
              "\n",
              "    .colab-df-convert:hover {\n",
              "      background-color: #E2EBFA;\n",
              "      box-shadow: 0px 1px 2px rgba(60, 64, 67, 0.3), 0px 1px 3px 1px rgba(60, 64, 67, 0.15);\n",
              "      fill: #174EA6;\n",
              "    }\n",
              "\n",
              "    .colab-df-buttons div {\n",
              "      margin-bottom: 4px;\n",
              "    }\n",
              "\n",
              "    [theme=dark] .colab-df-convert {\n",
              "      background-color: #3B4455;\n",
              "      fill: #D2E3FC;\n",
              "    }\n",
              "\n",
              "    [theme=dark] .colab-df-convert:hover {\n",
              "      background-color: #434B5C;\n",
              "      box-shadow: 0px 1px 3px 1px rgba(0, 0, 0, 0.15);\n",
              "      filter: drop-shadow(0px 1px 2px rgba(0, 0, 0, 0.3));\n",
              "      fill: #FFFFFF;\n",
              "    }\n",
              "  </style>\n",
              "\n",
              "    <script>\n",
              "      const buttonEl =\n",
              "        document.querySelector('#df-e2e06218-043b-4093-80ec-afa5565746ad button.colab-df-convert');\n",
              "      buttonEl.style.display =\n",
              "        google.colab.kernel.accessAllowed ? 'block' : 'none';\n",
              "\n",
              "      async function convertToInteractive(key) {\n",
              "        const element = document.querySelector('#df-e2e06218-043b-4093-80ec-afa5565746ad');\n",
              "        const dataTable =\n",
              "          await google.colab.kernel.invokeFunction('convertToInteractive',\n",
              "                                                    [key], {});\n",
              "        if (!dataTable) return;\n",
              "\n",
              "        const docLinkHtml = 'Like what you see? Visit the ' +\n",
              "          '<a target=\"_blank\" href=https://colab.research.google.com/notebooks/data_table.ipynb>data table notebook</a>'\n",
              "          + ' to learn more about interactive tables.';\n",
              "        element.innerHTML = '';\n",
              "        dataTable['output_type'] = 'display_data';\n",
              "        await google.colab.output.renderOutput(dataTable, element);\n",
              "        const docLink = document.createElement('div');\n",
              "        docLink.innerHTML = docLinkHtml;\n",
              "        element.appendChild(docLink);\n",
              "      }\n",
              "    </script>\n",
              "  </div>\n",
              "\n",
              "\n",
              "<div id=\"df-cc69f2b9-9faf-4c03-8df8-f5094655686c\">\n",
              "  <button class=\"colab-df-quickchart\" onclick=\"quickchart('df-cc69f2b9-9faf-4c03-8df8-f5094655686c')\"\n",
              "            title=\"Suggest charts\"\n",
              "            style=\"display:none;\">\n",
              "\n",
              "<svg xmlns=\"http://www.w3.org/2000/svg\" height=\"24px\"viewBox=\"0 0 24 24\"\n",
              "     width=\"24px\">\n",
              "    <g>\n",
              "        <path d=\"M19 3H5c-1.1 0-2 .9-2 2v14c0 1.1.9 2 2 2h14c1.1 0 2-.9 2-2V5c0-1.1-.9-2-2-2zM9 17H7v-7h2v7zm4 0h-2V7h2v10zm4 0h-2v-4h2v4z\"/>\n",
              "    </g>\n",
              "</svg>\n",
              "  </button>\n",
              "\n",
              "<style>\n",
              "  .colab-df-quickchart {\n",
              "      --bg-color: #E8F0FE;\n",
              "      --fill-color: #1967D2;\n",
              "      --hover-bg-color: #E2EBFA;\n",
              "      --hover-fill-color: #174EA6;\n",
              "      --disabled-fill-color: #AAA;\n",
              "      --disabled-bg-color: #DDD;\n",
              "  }\n",
              "\n",
              "  [theme=dark] .colab-df-quickchart {\n",
              "      --bg-color: #3B4455;\n",
              "      --fill-color: #D2E3FC;\n",
              "      --hover-bg-color: #434B5C;\n",
              "      --hover-fill-color: #FFFFFF;\n",
              "      --disabled-bg-color: #3B4455;\n",
              "      --disabled-fill-color: #666;\n",
              "  }\n",
              "\n",
              "  .colab-df-quickchart {\n",
              "    background-color: var(--bg-color);\n",
              "    border: none;\n",
              "    border-radius: 50%;\n",
              "    cursor: pointer;\n",
              "    display: none;\n",
              "    fill: var(--fill-color);\n",
              "    height: 32px;\n",
              "    padding: 0;\n",
              "    width: 32px;\n",
              "  }\n",
              "\n",
              "  .colab-df-quickchart:hover {\n",
              "    background-color: var(--hover-bg-color);\n",
              "    box-shadow: 0 1px 2px rgba(60, 64, 67, 0.3), 0 1px 3px 1px rgba(60, 64, 67, 0.15);\n",
              "    fill: var(--button-hover-fill-color);\n",
              "  }\n",
              "\n",
              "  .colab-df-quickchart-complete:disabled,\n",
              "  .colab-df-quickchart-complete:disabled:hover {\n",
              "    background-color: var(--disabled-bg-color);\n",
              "    fill: var(--disabled-fill-color);\n",
              "    box-shadow: none;\n",
              "  }\n",
              "\n",
              "  .colab-df-spinner {\n",
              "    border: 2px solid var(--fill-color);\n",
              "    border-color: transparent;\n",
              "    border-bottom-color: var(--fill-color);\n",
              "    animation:\n",
              "      spin 1s steps(1) infinite;\n",
              "  }\n",
              "\n",
              "  @keyframes spin {\n",
              "    0% {\n",
              "      border-color: transparent;\n",
              "      border-bottom-color: var(--fill-color);\n",
              "      border-left-color: var(--fill-color);\n",
              "    }\n",
              "    20% {\n",
              "      border-color: transparent;\n",
              "      border-left-color: var(--fill-color);\n",
              "      border-top-color: var(--fill-color);\n",
              "    }\n",
              "    30% {\n",
              "      border-color: transparent;\n",
              "      border-left-color: var(--fill-color);\n",
              "      border-top-color: var(--fill-color);\n",
              "      border-right-color: var(--fill-color);\n",
              "    }\n",
              "    40% {\n",
              "      border-color: transparent;\n",
              "      border-right-color: var(--fill-color);\n",
              "      border-top-color: var(--fill-color);\n",
              "    }\n",
              "    60% {\n",
              "      border-color: transparent;\n",
              "      border-right-color: var(--fill-color);\n",
              "    }\n",
              "    80% {\n",
              "      border-color: transparent;\n",
              "      border-right-color: var(--fill-color);\n",
              "      border-bottom-color: var(--fill-color);\n",
              "    }\n",
              "    90% {\n",
              "      border-color: transparent;\n",
              "      border-bottom-color: var(--fill-color);\n",
              "    }\n",
              "  }\n",
              "</style>\n",
              "\n",
              "  <script>\n",
              "    async function quickchart(key) {\n",
              "      const quickchartButtonEl =\n",
              "        document.querySelector('#' + key + ' button');\n",
              "      quickchartButtonEl.disabled = true;  // To prevent multiple clicks.\n",
              "      quickchartButtonEl.classList.add('colab-df-spinner');\n",
              "      try {\n",
              "        const charts = await google.colab.kernel.invokeFunction(\n",
              "            'suggestCharts', [key], {});\n",
              "      } catch (error) {\n",
              "        console.error('Error during call to suggestCharts:', error);\n",
              "      }\n",
              "      quickchartButtonEl.classList.remove('colab-df-spinner');\n",
              "      quickchartButtonEl.classList.add('colab-df-quickchart-complete');\n",
              "    }\n",
              "    (() => {\n",
              "      let quickchartButtonEl =\n",
              "        document.querySelector('#df-cc69f2b9-9faf-4c03-8df8-f5094655686c button');\n",
              "      quickchartButtonEl.style.display =\n",
              "        google.colab.kernel.accessAllowed ? 'block' : 'none';\n",
              "    })();\n",
              "  </script>\n",
              "</div>\n",
              "\n",
              "    </div>\n",
              "  </div>\n"
            ],
            "application/vnd.google.colaboratory.intrinsic+json": {
              "type": "dataframe",
              "variable_name": "data",
              "summary": "{\n  \"name\": \"data\",\n  \"rows\": 47837,\n  \"fields\": [\n    {\n      \"column\": \"Document\",\n      \"properties\": {\n        \"dtype\": \"string\",\n        \"num_unique_values\": 47837,\n        \"samples\": [\n          \"issue with server process sent tuesday issue with server process hi could you please help with following issue getting once few minutes discipline lead\",\n          \"new purchase po wednesday february purchase po dear purchased please log installation please take consideration mandatory receipts section order receive item ordered kind regards administrator information\",\n          \"oracle pas urgent re we updated rights query hi can get some assistance here looks like have full control for codes only one working for cannot forecast need done by friday thanks programme portfolio officer mobile phone\"\n        ],\n        \"semantic_type\": \"\",\n        \"description\": \"\"\n      }\n    },\n    {\n      \"column\": \"Topic_group\",\n      \"properties\": {\n        \"dtype\": \"category\",\n        \"num_unique_values\": 8,\n        \"samples\": [\n          \"Access\",\n          \"Administrative rights\",\n          \"Hardware\"\n        ],\n        \"semantic_type\": \"\",\n        \"description\": \"\"\n      }\n    }\n  ]\n}"
            }
          },
          "metadata": {},
          "execution_count": 2
        }
      ]
    },
    {
      "cell_type": "code",
      "source": [
        "data = pd.read_csv('Service_tickets.csv')\n",
        "data.shape"
      ],
      "metadata": {
        "id": "_COA_6XlSWHA",
        "colab": {
          "base_uri": "https://localhost:8080/"
        },
        "outputId": "f4e345c9-693f-45f8-c550-9856127dec0a"
      },
      "execution_count": null,
      "outputs": [
        {
          "output_type": "execute_result",
          "data": {
            "text/plain": [
              "(47837, 2)"
            ]
          },
          "metadata": {},
          "execution_count": 3
        }
      ]
    },
    {
      "cell_type": "code",
      "source": [
        "# checking the count of the frequency of the Classes\n",
        "data['Topic_group'].value_counts()"
      ],
      "metadata": {
        "id": "jxXE6DndSZnE",
        "colab": {
          "base_uri": "https://localhost:8080/"
        },
        "outputId": "bf8f9b95-93ce-450d-f3b4-d942e8b97fa2"
      },
      "execution_count": null,
      "outputs": [
        {
          "output_type": "execute_result",
          "data": {
            "text/plain": [
              "Topic_group\n",
              "Hardware                 13617\n",
              "HR Support               10915\n",
              "Access                    7125\n",
              "Miscellaneous             7060\n",
              "Storage                   2777\n",
              "Purchase                  2464\n",
              "Internal Project          2119\n",
              "Administrative rights     1760\n",
              "Name: count, dtype: int64"
            ]
          },
          "metadata": {},
          "execution_count": 4
        }
      ]
    },
    {
      "cell_type": "markdown",
      "source": [
        "**Data Cleaning and Encoding the  Category  Labels**\n",
        "\n",
        "This step involves removing  non-alphabetic characters, Converting text to lowercase and removing stop words.\n",
        "Also the target variable , topic group(label) is encoded  into numeric format for prepration for the models."
      ],
      "metadata": {
        "id": "xRjygPB57Gkc"
      }
    },
    {
      "cell_type": "code",
      "source": [
        "# Cleaning the text data\n",
        "def clean_text(text):\n",
        "    stop_words = set(stopwords.words('english'))\n",
        "    text = text.lower()\n",
        "    text = re.sub('[^a-zA-Z\\s]', '', text)\n",
        "    text = ' '.join(word for word in text.split() if word not in stop_words)\n",
        "    return text\n",
        "\n",
        "data['Cleaned_Document'] = data['Document'].apply(clean_text)\n",
        "\n",
        "# Ensuring the DataFrame has the columns needed\n",
        "data = data[['Cleaned_Document', 'Topic_group']]\n",
        "\n",
        "# Encoding category labels using category codes\n",
        "data[\"encoded_label\"] = data[\"Topic_group\"].astype('category').cat.codes"
      ],
      "metadata": {
        "id": "ZjWob207ScU9"
      },
      "execution_count": null,
      "outputs": []
    },
    {
      "cell_type": "markdown",
      "source": [
        "**Balancing the Dataset Through Undersampling and Oversampling .**\n",
        "\n",
        "A target size 5,000 is set basing on the median, and undersampling is done for classes that  exceed 5,000 by randomly selecting and removing the samples until the target is reached\n",
        "For classes with less than 5,000, oversampling is done by randomly duplicating samples until there are 5,000 thus achieving a balanced dataset.\n"
      ],
      "metadata": {
        "id": "E1oFwPmM7PU6"
      }
    },
    {
      "cell_type": "code",
      "source": [
        "# Undersampling and oversampling to target 5000 instances per class\n",
        "target_size = 5000\n",
        "balanced_data = pd.DataFrame(columns=data.columns)\n",
        "\n",
        "for topic_group in data['Topic_group'].unique():\n",
        "    topic_group_data = data[data['Topic_group'] == topic_group]\n",
        "    if len(topic_group_data) > target_size:\n",
        "        # Undersample\n",
        "        undersampled_data = resample(topic_group_data, replace=False, n_samples=target_size, random_state=42)\n",
        "        balanced_data = pd.concat([balanced_data, undersampled_data])\n",
        "    else:\n",
        "        # Oversample\n",
        "        oversampled_data = resample(topic_group_data, replace=True, n_samples=target_size, random_state=42)\n",
        "        balanced_data = pd.concat([balanced_data, oversampled_data])\n",
        "\n",
        "balanced_data.reset_index(drop=True, inplace=True)\n",
        "\n",
        "# Printing class distribution after balancing\n",
        "print(\"Class distribution after balancing:\")\n",
        "print(balanced_data['Topic_group'].value_counts())\n"
      ],
      "metadata": {
        "id": "ti7uNI_gSnbq",
        "colab": {
          "base_uri": "https://localhost:8080/"
        },
        "outputId": "090568ed-4a40-45b2-c4c9-f430bb8395bc"
      },
      "execution_count": null,
      "outputs": [
        {
          "output_type": "stream",
          "name": "stdout",
          "text": [
            "Class distribution after balancing:\n",
            "Topic_group\n",
            "Hardware                 5000\n",
            "Access                   5000\n",
            "Miscellaneous            5000\n",
            "HR Support               5000\n",
            "Purchase                 5000\n",
            "Administrative rights    5000\n",
            "Storage                  5000\n",
            "Internal Project         5000\n",
            "Name: count, dtype: int64\n"
          ]
        }
      ]
    },
    {
      "cell_type": "markdown",
      "source": [
        "**Data Preparation for BERT: Splitting, Tokenization, and Encoding**\n",
        "\n",
        "The Balanced Data is split into Training and Test Sets using stratified spliting to ensure the class  distribution in the training and test sets represents the overall class distribution in the balanced dataset.A further Split of the train data into train and validation Sets for validating the model and for hyperparameter tuning during training.The test split is reserved for model evaluation after training.\n",
        "\n",
        "BertTokenizer is used  for tokenizing the text data by converting them into tokenized sequences, and theyre truncated if longer than 512 tokens set limit,this is because BERT has a fixed input size limit.\n",
        "Padding is done for texts shorter than 512tokens to have equal lenght for the sequences.\n",
        "\n",
        "Converted the train,test and validation sets labels and the tokenized encodings to Numpy arrays for compatitbilty with tensorflow libraries  and also facilitate efficient batch processing and manipulation and Computation efficiency.\n"
      ],
      "metadata": {
        "id": "uXf5Zj7YP6Kx"
      }
    },
    {
      "cell_type": "code",
      "source": [
        "# Splitting the balanced data into training (80%) and test (20%) sets\n",
        "train_data, test_data = train_test_split(balanced_data, test_size=0.2, stratify=balanced_data['Topic_group'], random_state=42)\n",
        "\n"
      ],
      "metadata": {
        "id": "lUvx1-dWSq2Z"
      },
      "execution_count": null,
      "outputs": []
    },
    {
      "cell_type": "code",
      "source": [
        "\n",
        "# Further split the training data into training and validation sets (80% training, 20% validation)\n",
        "train_texts, val_texts, train_labels, val_labels = train_test_split(\n",
        "    train_data['Cleaned_Document'].tolist(),\n",
        "    train_data['encoded_label'].tolist(),\n",
        "    test_size=0.2,  # This is 20% of the 80% training data\n",
        "    stratify=train_data['encoded_label'],\n",
        "    random_state=42\n",
        ")\n",
        "\n",
        "# Tokenizing the texts\n",
        "tokenizer = BertTokenizer.from_pretrained('bert-base-uncased')\n",
        "train_encodings = tokenizer(train_texts, truncation=True, padding=True, max_length=512)\n",
        "val_encodings = tokenizer(val_texts, truncation=True, padding=True, max_length=512)\n",
        "test_encodings = tokenizer(test_data['Cleaned_Document'].tolist(), truncation=True, padding=True, max_length=512)\n",
        "\n",
        "#Converting to numpy arrays\n",
        "train_labels = np.array(train_labels)\n",
        "val_labels = np.array(val_labels)\n",
        "test_labels = np.array(test_data['encoded_label'].tolist())\n",
        "\n",
        "train_encodings = {key: np.array(train_encodings[key]) for key in train_encodings}\n",
        "val_encodings = {key: np.array(val_encodings[key]) for key in val_encodings}\n",
        "test_encodings = {key: np.array(test_encodings[key]) for key in test_encodings}"
      ],
      "metadata": {
        "colab": {
          "base_uri": "https://localhost:8080/"
        },
        "id": "iSDu2uudvAXH",
        "outputId": "510f723e-b5e0-423e-ce95-d6cd5c9aef30"
      },
      "execution_count": null,
      "outputs": [
        {
          "output_type": "stream",
          "name": "stderr",
          "text": [
            "/usr/local/lib/python3.10/dist-packages/huggingface_hub/utils/_token.py:89: UserWarning: \n",
            "The secret `HF_TOKEN` does not exist in your Colab secrets.\n",
            "To authenticate with the Hugging Face Hub, create a token in your settings tab (https://huggingface.co/settings/tokens), set it as secret in your Google Colab and restart your session.\n",
            "You will be able to reuse this secret in all of your notebooks.\n",
            "Please note that authentication is recommended but still optional to access public models or datasets.\n",
            "  warnings.warn(\n"
          ]
        }
      ]
    },
    {
      "cell_type": "markdown",
      "source": [
        "**Loading,compiling and training the  BERT Model.**\n",
        "\n",
        "\n",
        "pre-trained BERT model (bert-base-uncased) is loaded  from Hugging face with a specific model  for sequence classification with a number of output labels equal to the number of classes\n",
        "The model is compiled with a custom optimizer and a loss function provided by Hugging Face  and accuracy is set as the metric to monitor and Hyperparameters are configured,\n",
        "The tokenized training, validation, and test datasets are converted into TensorFlow datasets to leverage TensorFlow's optimizations for data loading, transformation, and feeding data to the model during training,  and  are batched according to the specified batch sizes.\n",
        "The model is compiled with an optimizer  and loss function from Hugging face and with accuarcy as metric and trained with early stopping to prevent overfitting with a patience of 3 epochs where it stops if performance does not\n",
        "improve"
      ],
      "metadata": {
        "id": "yFz6llXR9bfL"
      }
    },
    {
      "cell_type": "code",
      "source": [
        "from tensorflow.keras.callbacks import EarlyStopping\n",
        "# Loading and compiling BERT model\n",
        "model = TFBertForSequenceClassification.from_pretrained('bert-base-uncased', num_labels=len(data['Topic_group'].unique()))\n",
        "\n",
        "\n",
        "# Defining hyperparameters\n",
        "initial_learning_rate = 2e-5\n",
        "number_epochs = 10\n",
        "batch_size_train = 16\n",
        "batch_size_val = 64\n",
        "steps_per_epoch = len(train_encodings['input_ids']) // batch_size_train\n",
        "number_train_steps = steps_per_epoch * number_epochs\n",
        "warmup_steps = 500\n",
        "\n",
        "# Creating optimizer\n",
        "optimizer, schedule = create_optimizer(\n",
        "    init_lr=initial_learning_rate,\n",
        "    num_train_steps=number_train_steps,\n",
        "    num_warmup_steps=warmup_steps\n",
        ")\n",
        "\n",
        "\n",
        "# Compiling the model\n",
        "model.compile(optimizer=optimizer, loss=model.hf_compute_loss, metrics=['accuracy'])\n",
        "\n",
        "# Converting encodings to TensorFlow datasets and batch them\n",
        "train_dataset = tf.data.Dataset.from_tensor_slices((train_encodings, train_labels)).shuffle(len(train_labels)).batch(batch_size_train)\n",
        "val_dataset = tf.data.Dataset.from_tensor_slices((val_encodings, val_labels)).batch(batch_size_val)\n",
        "test_dataset = tf.data.Dataset.from_tensor_slices((test_encodings, test_labels)).batch(batch_size_val)\n",
        "\n",
        "# Adding early stopping\n",
        "early_stopping = EarlyStopping(monitor='val_loss', patience=3, restore_best_weights=True)\n",
        "\n",
        "# Training the model\n",
        "history = model.fit(train_dataset, validation_data=val_dataset, epochs=number_epochs, callbacks=[early_stopping])\n"
      ],
      "metadata": {
        "colab": {
          "base_uri": "https://localhost:8080/"
        },
        "id": "m6EE7NuVvej7",
        "outputId": "044b0791-d6a0-4410-a2e2-ca919068001d"
      },
      "execution_count": null,
      "outputs": [
        {
          "output_type": "stream",
          "name": "stderr",
          "text": [
            "All PyTorch model weights were used when initializing TFBertForSequenceClassification.\n",
            "\n",
            "Some weights or buffers of the TF 2.0 model TFBertForSequenceClassification were not initialized from the PyTorch model and are newly initialized: ['classifier.weight', 'classifier.bias']\n",
            "You should probably TRAIN this model on a down-stream task to be able to use it for predictions and inference.\n"
          ]
        },
        {
          "output_type": "stream",
          "name": "stdout",
          "text": [
            "Epoch 1/10\n"
          ]
        },
        {
          "output_type": "stream",
          "name": "stderr",
          "text": [
            "WARNING:tensorflow:AutoGraph could not transform <function infer_framework at 0x789466f99c60> and will run it as-is.\n",
            "Cause: for/else statement not yet supported\n",
            "To silence this warning, decorate the function with @tf.autograph.experimental.do_not_convert\n"
          ]
        },
        {
          "output_type": "stream",
          "name": "stdout",
          "text": [
            "WARNING: AutoGraph could not transform <function infer_framework at 0x789466f99c60> and will run it as-is.\n",
            "Cause: for/else statement not yet supported\n",
            "To silence this warning, decorate the function with @tf.autograph.experimental.do_not_convert\n",
            "1600/1600 [==============================] - 823s 466ms/step - loss: 0.8113 - accuracy: 0.7242 - val_loss: 0.3461 - val_accuracy: 0.8866\n",
            "Epoch 2/10\n",
            "1600/1600 [==============================] - 735s 459ms/step - loss: 0.2837 - accuracy: 0.9080 - val_loss: 0.2579 - val_accuracy: 0.9187\n",
            "Epoch 3/10\n",
            "1600/1600 [==============================] - 734s 459ms/step - loss: 0.1571 - accuracy: 0.9495 - val_loss: 0.2808 - val_accuracy: 0.9136\n",
            "Epoch 4/10\n",
            "1600/1600 [==============================] - 734s 459ms/step - loss: 0.0890 - accuracy: 0.9729 - val_loss: 0.2966 - val_accuracy: 0.9197\n",
            "Epoch 5/10\n",
            "1600/1600 [==============================] - 735s 459ms/step - loss: 0.0520 - accuracy: 0.9844 - val_loss: 0.3293 - val_accuracy: 0.9216\n"
          ]
        }
      ]
    },
    {
      "cell_type": "markdown",
      "source": [
        "**Model Evaluation on Test Set and  Performance Metrics,confussion matrix and classifcation report**\n",
        "\n",
        "\n",
        "\n",
        "Calculating key performance metrics: accuracy, F1 score, precision, and recall and printing a detailed classification report to provide insights into how well the model performs across different classes"
      ],
      "metadata": {
        "id": "mnsxUjUn-tNK"
      }
    },
    {
      "cell_type": "code",
      "source": [
        "# Evaluating the model on the test set\n",
        "preds = model.predict(test_dataset)\n",
        "y_pred = np.argmax(preds.logits, axis=-1)\n",
        "y_true = np.concatenate([y for x, y in test_dataset], axis=0)\n",
        "\n",
        "# Computing metrics\n",
        "conf_matrix = confusion_matrix(y_true, y_pred)\n",
        "acc = accuracy_score(y_true, y_pred)\n",
        "f1 = f1_score(y_true, y_pred, average='weighted')\n",
        "precision = precision_score(y_true, y_pred, average='weighted')\n",
        "recall = recall_score(y_true, y_pred, average='weighted')\n",
        "\n",
        "print(f\"Accuracy: {acc}\")\n",
        "print(f\"F1 Score: {f1}\")\n",
        "print(f\"Precision: {precision}\")\n",
        "print(f\"Recall: {recall}\")\n",
        "\n",
        "# Generating classification report\n",
        "class_report = classification_report(y_true, y_pred, target_names=data[\"Topic_group\"].astype('category').cat.categories)\n",
        "print(\"\\nClassification Report:\\n\", class_report)\n"
      ],
      "metadata": {
        "colab": {
          "base_uri": "https://localhost:8080/"
        },
        "id": "9TnqVLByvfh0",
        "outputId": "759b30b7-2338-4391-d64a-b3b6af415cad"
      },
      "execution_count": null,
      "outputs": [
        {
          "output_type": "stream",
          "name": "stdout",
          "text": [
            "125/125 [==============================] - 73s 518ms/step\n",
            "Accuracy: 0.9085\n",
            "F1 Score: 0.9081389086749545\n",
            "Precision: 0.9083163801040919\n",
            "Recall: 0.9085\n",
            "\n",
            "Classification Report:\n",
            "                        precision    recall  f1-score   support\n",
            "\n",
            "               Access       0.94      0.88      0.91      1000\n",
            "Administrative rights       0.94      0.98      0.96      1000\n",
            "           HR Support       0.85      0.85      0.85      1000\n",
            "             Hardware       0.81      0.79      0.80      1000\n",
            "     Internal Project       0.94      0.98      0.96      1000\n",
            "        Miscellaneous       0.86      0.86      0.86      1000\n",
            "             Purchase       0.98      0.96      0.97      1000\n",
            "              Storage       0.96      0.97      0.96      1000\n",
            "\n",
            "             accuracy                           0.91      8000\n",
            "            macro avg       0.91      0.91      0.91      8000\n",
            "         weighted avg       0.91      0.91      0.91      8000\n",
            "\n"
          ]
        }
      ]
    },
    {
      "cell_type": "markdown",
      "source": [
        "**Confusion matrix**\n",
        "\n",
        "Generated to visualize and understand the performance of model in more detail and see number of correct and incorrect predictions for each class to idenfity misclassification and evaluate how well the model handles each class."
      ],
      "metadata": {
        "id": "RobnVDMfRhjh"
      }
    },
    {
      "cell_type": "code",
      "source": [
        "from sklearn.metrics import ConfusionMatrixDisplay\n",
        "# Plot confusion matrix\n",
        "plt.figure(figsize=(10, 8))\n",
        "ConfusionMatrixDisplay(confusion_matrix=conf_matrix, display_labels=data[\"Topic_group\"].astype('category').cat.categories).plot(ax=plt.gca())\n",
        "plt.title('Confusion Matrix')\n",
        "plt.show()"
      ],
      "metadata": {
        "colab": {
          "base_uri": "https://localhost:8080/",
          "height": 672
        },
        "id": "wOcPzy4_vleY",
        "outputId": "6e9d9350-ebca-4418-8768-76d65b4772da"
      },
      "execution_count": null,
      "outputs": [
        {
          "output_type": "display_data",
          "data": {
            "text/plain": [
              "<Figure size 1000x800 with 2 Axes>"
            ],
            "image/png": "[encoded data removed]"
          },
          "metadata": {}
        }
      ]
    },
    {
      "cell_type": "markdown",
      "source": [
        "**Training and Validation Accuracy and Loss Visualization**\n",
        "\n",
        "Ploted the model's training and validation accuracy and loss over the training epochs. These plots helped to assess the model's performance, monitor overfitting, and understand how well the model is learning and generalizing as it trains"
      ],
      "metadata": {
        "id": "BnL82WLFRncv"
      }
    },
    {
      "cell_type": "code",
      "source": [
        "# Plotting training & validation accuracy values\n",
        "plt.figure(figsize=(14, 5))\n",
        "plt.subplot(1, 2, 1)\n",
        "plt.plot(history.history['accuracy'])\n",
        "plt.plot(history.history['val_accuracy'])\n",
        "plt.title('Model accuracy')\n",
        "plt.ylabel('Accuracy')\n",
        "plt.xlabel('Epoch')\n",
        "plt.legend(['Train', 'Validation'], loc='upper left')\n",
        "\n",
        "# Plotting training & validation loss values\n",
        "plt.subplot(1, 2, 2)\n",
        "plt.plot(history.history['loss'])\n",
        "plt.plot(history.history['val_loss'])\n",
        "plt.title('Model loss')\n",
        "plt.ylabel('Loss')\n",
        "plt.xlabel('Epoch')\n",
        "plt.legend(['Train', 'Validation'], loc='upper left')\n",
        "plt.show()"
      ],
      "metadata": {
        "colab": {
          "base_uri": "https://localhost:8080/",
          "height": 362
        },
        "id": "T-B2ZM6Evoce",
        "outputId": "4148a5e7-4a3b-4c6d-affb-3c972d5cdd8b"
      },
      "execution_count": null,
      "outputs": [
        {
          "output_type": "display_data",
          "data": {
            "text/plain": [
              "<Figure size 1400x500 with 2 Axes>"
            ],
            "image/png": "[encoded data removed]"
          },
          "metadata": {}
        }
      ]
    }
  ]
}